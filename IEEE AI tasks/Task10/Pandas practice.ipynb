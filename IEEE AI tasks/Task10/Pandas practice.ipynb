{
 "cells": [
  {
   "cell_type": "markdown",
   "metadata": {},
   "source": [
    "# Ex2 - Getting and Knowing your Data"
   ]
  },
  {
   "cell_type": "markdown",
   "metadata": {},
   "source": [
    "This time we are going to pull data directly from the internet.\n",
    "Special thanks to: https://github.com/justmarkham for sharing the dataset and materials.\n",
    "\n",
    "### Step 1. Import the necessary libraries"
   ]
  },
  {
   "cell_type": "code",
   "execution_count": 11,
   "metadata": {},
   "outputs": [],
   "source": [
    "import pandas as pd  \n",
    "import numpy as np  "
   ]
  },
  {
   "cell_type": "markdown",
   "metadata": {},
   "source": [
    "### Step 2. Import the dataset from this [address](https://raw.githubusercontent.com/justmarkham/DAT8/master/data/chipotle.tsv). "
   ]
  },
  {
   "cell_type": "markdown",
   "metadata": {},
   "source": [
    "### Step 3. Assign it to a variable called chipo."
   ]
  },
  {
   "cell_type": "code",
   "execution_count": 13,
   "metadata": {},
   "outputs": [],
   "source": [
    "url = 'https://raw.githubusercontent.com/justmarkham/DAT8/master/data/chipotle.tsv'\n",
    "chipo = pd.read_csv(url, sep='\\t')\n"
   ]
  },
  {
   "cell_type": "markdown",
   "metadata": {},
   "source": [
    "### Step 4. See the first 10 entries"
   ]
  },
  {
   "cell_type": "code",
   "execution_count": null,
   "metadata": {
    "scrolled": false
   },
   "outputs": [],
   "source": [
    "print(chipo.head(10))"
   ]
  },
  {
   "cell_type": "markdown",
   "metadata": {},
   "source": [
    "### Step 5. What is the number of observations in the dataset?"
   ]
  },
  {
   "cell_type": "code",
   "execution_count": null,
   "metadata": {},
   "outputs": [],
   "source": [
    "#number of observations\n",
    "num_observations = chipo.shape[0]\n",
    "print(\"Number of observations:\", num_observations)"
   ]
  },
  {
   "cell_type": "code",
   "execution_count": null,
   "metadata": {},
   "outputs": [],
   "source": [
    "#show info about the data\n",
    "print(\"\\nData info:\")\n",
    "print(chipo.info())"
   ]
  },
  {
   "cell_type": "markdown",
   "metadata": {},
   "source": [
    "### Step 6. What is the number of columns in the dataset?"
   ]
  },
  {
   "cell_type": "code",
   "execution_count": null,
   "metadata": {},
   "outputs": [],
   "source": [
    "num_columns = chipo.shape[1]\n",
    "print(\"Number of columns:\", num_columns)"
   ]
  },
  {
   "cell_type": "markdown",
   "metadata": {},
   "source": [
    "### Step 7. Print the name of all the columns."
   ]
  },
  {
   "cell_type": "code",
   "execution_count": null,
   "metadata": {},
   "outputs": [],
   "source": [
    "print(\"Column names:\")\n",
    "print(chipo.columns.tolist())"
   ]
  },
  {
   "cell_type": "markdown",
   "metadata": {},
   "source": [
    "### Step 8. How is the dataset indexed?"
   ]
  },
  {
   "cell_type": "code",
   "execution_count": null,
   "metadata": {},
   "outputs": [],
   "source": [
    "print(\"Index of the DataFrame:\")\n",
    "print(chipo.index)"
   ]
  },
  {
   "cell_type": "markdown",
   "metadata": {},
   "source": [
    "### Step 9. Which was the most-ordered item? "
   ]
  },
  {
   "cell_type": "code",
   "execution_count": null,
   "metadata": {},
   "outputs": [],
   "source": [
    "# Group by 'item_name' and sum up the 'quantity'\n",
    "item_counts = chipo.groupby('item_name')['quantity'].sum()\n",
    "\n",
    "# Find the item with the highest quantity\n",
    "most_ordered_item = item_counts.idxmax()\n",
    "most_ordered_count = item_counts.max()\n",
    "\n",
    "print(f\"The most-ordered item is '{most_ordered_item}' with {most_ordered_count} orders.\")"
   ]
  },
  {
   "cell_type": "markdown",
   "metadata": {},
   "source": [
    "### Step 10. For the most-ordered item, how many items were ordered?"
   ]
  },
  {
   "cell_type": "code",
   "execution_count": null,
   "metadata": {},
   "outputs": [],
   "source": [
    "# Group by 'item_name' and sum up the 'quantity'\n",
    "item_counts = chipo.groupby('item_name')['quantity'].sum()\n",
    "\n",
    "# Find the item with the highest quantity\n",
    "most_ordered_item = item_counts.idxmax()\n",
    "\n",
    "# Get the total quantity ordered for the most-ordered item\n",
    "most_ordered_count = item_counts.max()\n",
    "\n",
    "print(f\"For the most-ordered item '{most_ordered_item}', a total of {most_ordered_count} items were ordered.\")"
   ]
  },
  {
   "cell_type": "markdown",
   "metadata": {},
   "source": [
    "### Step 11. What was the most ordered item in the choice_description column?"
   ]
  },
  {
   "cell_type": "code",
   "execution_count": null,
   "metadata": {},
   "outputs": [],
   "source": [
    "# Group by 'choice_description' and count the number of occurrences\n",
    "choice_counts = chipo['choice_description'].value_counts()\n",
    "\n",
    "# Find the most frequently occurring choice description\n",
    "most_ordered_choice = choice_counts.idxmax()\n",
    "most_ordered_choice_count = choice_counts.max()\n",
    "\n",
    "print(f\"The most-ordered choice description is '{most_ordered_choice}' with {most_ordered_choice_count} orders.\")"
   ]
  },
  {
   "cell_type": "markdown",
   "metadata": {},
   "source": [
    "### Step 12. How many items were orderd in total?"
   ]
  },
  {
   "cell_type": "code",
   "execution_count": null,
   "metadata": {},
   "outputs": [],
   "source": [
    "# Calculate the total number of items ordered\n",
    "total_items_ordered = chipo['quantity'].sum()\n",
    "\n",
    "print(f\"Total number of items ordered: {total_items_ordered}\")"
   ]
  },
  {
   "cell_type": "markdown",
   "metadata": {},
   "source": [
    "### Step 13. Turn the item price into a float"
   ]
  },
  {
   "cell_type": "markdown",
   "metadata": {},
   "source": [
    "#### Step 13.a. Check the item price type"
   ]
  },
  {
   "cell_type": "code",
   "execution_count": null,
   "metadata": {},
   "outputs": [],
   "source": [
    "# Check the data type of the 'item_price' column\n",
    "print(\"Data type of 'item_price':\", chipo['item_price'].dtype)"
   ]
  },
  {
   "cell_type": "markdown",
   "metadata": {},
   "source": [
    "#### Step 13.b. Create a lambda function and change the type of item price"
   ]
  },
  {
   "cell_type": "code",
   "execution_count": null,
   "metadata": {},
   "outputs": [],
   "source": [
    "# Check the data type of the 'item_price' column\n",
    "print(\"Data type of 'item_price' before conversion:\", chipo['item_price'].dtype)\n",
    "\n",
    "# Create a lambda function to remove the dollar sign and convert to float\n",
    "chipo['item_price'] = chipo['item_price'].apply(lambda x: float(x.replace('$', '')))\n",
    "\n",
    "# Check the data type of the 'item_price' column after conversion\n",
    "print(\"Data type of 'item_price' after conversion:\", chipo['item_price'].dtype)"
   ]
  },
  {
   "cell_type": "markdown",
   "metadata": {},
   "source": [
    "#### Step 13.c. Check the item price type"
   ]
  },
  {
   "cell_type": "code",
   "execution_count": null,
   "metadata": {},
   "outputs": [],
   "source": [
    "# Convert 'item_price' to float\n",
    "chipo['item_price'] = chipo['item_price'].apply(lambda x: float(x.replace('$', '')))\n",
    "\n",
    "# Check the data type of the 'item_price' column after conversion\n",
    "print(\"Data type of 'item_price' after conversion:\", chipo['item_price'].dtype)\n"
   ]
  },
  {
   "cell_type": "markdown",
   "metadata": {},
   "source": [
    "### Step 14. How much was the revenue for the period in the dataset?"
   ]
  },
  {
   "cell_type": "code",
   "execution_count": null,
   "metadata": {},
   "outputs": [],
   "source": [
    "# Convert 'item_price' to float\n",
    "chipo['item_price'] = chipo['item_price'].apply(lambda x: float(x.replace('$', '')))\n",
    "\n",
    "# Calculate the total revenue\n",
    "chipo['revenue'] = chipo['item_price'] * chipo['quantity']\n",
    "total_revenue = chipo['revenue'].sum()\n",
    "\n",
    "print(f\"Total revenue for the period in the dataset: ${total_revenue:.2f}\")"
   ]
  },
  {
   "cell_type": "markdown",
   "metadata": {},
   "source": [
    "### Step 15. How many orders were made in the period?"
   ]
  },
  {
   "cell_type": "code",
   "execution_count": null,
   "metadata": {},
   "outputs": [],
   "source": [
    "# Calculate the total number of orders\n",
    "total_orders = chipo.shape[0]\n",
    "\n",
    "print(f\"Total number of orders for the period in the dataset: {total_orders}\")"
   ]
  },
  {
   "cell_type": "markdown",
   "metadata": {},
   "source": [
    "### Step 16. What is the average revenue amount per order?"
   ]
  },
  {
   "cell_type": "code",
   "execution_count": null,
   "metadata": {},
   "outputs": [],
   "source": [
    "# Convert 'item_price' to float\n",
    "chipo['item_price'] = chipo['item_price'].apply(lambda x: float(x.replace('$', '')))\n",
    "\n",
    "# Calculate the total revenue\n",
    "chipo['revenue'] = chipo['item_price'] * chipo['quantity']\n",
    "total_revenue = chipo['revenue'].sum()\n",
    "\n",
    "# Calculate the total number of orders\n",
    "total_orders = chipo.shape[0]\n",
    "\n"
   ]
  },
  {
   "cell_type": "code",
   "execution_count": null,
   "metadata": {},
   "outputs": [],
   "source": [
    "# Calculate the average revenue per order\n",
    "average_revenue_per_order = total_revenue / total_orders\n",
    "\n",
    "print(f\"Average revenue amount per order: ${average_revenue_per_order:.2f}\")"
   ]
  },
  {
   "cell_type": "markdown",
   "metadata": {},
   "source": [
    "### Step 17. How many different items are sold?"
   ]
  },
  {
   "cell_type": "code",
   "execution_count": null,
   "metadata": {},
   "outputs": [],
   "source": [
    "# Calculate the number of unique items sold\n",
    "num_different_items = chipo['item_name'].nunique()"
   ]
  },
  {
   "cell_type": "code",
   "execution_count": null,
   "metadata": {},
   "outputs": [],
   "source": [
    "print(f\"Number of different items sold: {num_different_items}\")"
   ]
  }
 ],
 "metadata": {
  "anaconda-cloud": {},
  "kernelspec": {
   "display_name": "Python 3 (ipykernel)",
   "language": "python",
   "name": "python3"
  },
  "language_info": {
   "codemirror_mode": {
    "name": "ipython",
    "version": 3
   },
   "file_extension": ".py",
   "mimetype": "text/x-python",
   "name": "python",
   "nbconvert_exporter": "python",
   "pygments_lexer": "ipython3",
   "version": "3.9.13"
  }
 },
 "nbformat": 4,
 "nbformat_minor": 1
}
