{
 "cells": [
  {
   "cell_type": "code",
   "execution_count": null,
   "id": "e5593514",
   "metadata": {},
   "outputs": [],
   "source": [
    "#Run this cell (Do not make any changes)\n",
    "import pandas as pd\n",
    "df_users = pd.DataFrame({\n",
    "    \"user_id\": [234, 235, 236, 237, 237, 238, 239, 240, 241, 242, 242],\n",
    "    \"Name\": [\"Tom\", \"Alex--\", \"..Thomas\", \"John\", \"John\", \"Paul/\", \"Emma9\", \"Joy\", \"Samantha_\", \"Emily\", \"Emily\"],\n",
    "    \"Last_name\": [\"Smith\", \"johnson\", \"brown\", \"Davis\", \"Davis\", \"None\", \"wilson\", \"Thompson\", \"Lee\", \"Johnson\", \"Johnson\"],\n",
    "    \"age\": [23, 32, 45, 22, 22, 50, 34, 47, 28, 19, 19],\n",
    "    \"Phone\": [\"555/123/4567\", \"333-234-5678\", \"444_456_7890\", \"111-222-3333\", \"111-222-3333\", None, \"333/987/4567\", \"222/345_987\", \"(777) 987-6543\", \"777-888-9999\", \"777-888-9999\"],\n",
    "    \"Email\": [\"smith@email.com\", \"johnson@hotmail.com\", \"brown@email.com\", \"davis@mail.com\", \"davis@mail.com\", \"John@gmail.com\", \"wilson@mail.com\", \"thompson@email.com\", \"lee@email.com\", \"emily@hotmail.com\", \"emily@hotmail.com\"],\n",
    "    \"Not_Useful_column\": [None, None, None, None, None, None, None, None, None, None, None]\n",
    "})\n",
    "\n",
    "print(df_users)"
   ]
  },
  {
   "cell_type": "code",
   "execution_count": null,
   "id": "dc2a2d71",
   "metadata": {},
   "outputs": [],
   "source": [
    "#Delete duplicated rows\n",
    "df_users_cleaned = df_users.drop_duplicates()"
   ]
  },
  {
   "cell_type": "code",
   "execution_count": null,
   "id": "70afc7c7",
   "metadata": {},
   "outputs": [],
   "source": [
    "#Delete unnecessary columns\n",
    "df_users_cleaned = df_users_cleaned.drop(columns=[\"Not_Useful_column\"])"
   ]
  },
  {
   "cell_type": "code",
   "execution_count": null,
   "id": "828de2d4",
   "metadata": {},
   "outputs": [],
   "source": [
    "#Correct syntax errors in columns\n",
    "df_users_cleaned[\"Name\"] = df_users_cleaned[\"Name\"].str.replace(r'[^a-zA-Z\\s]', '', regex=True).str.strip()\n",
    "df_users_cleaned[\"Phone\"] = df_users_cleaned[\"Phone\"].str.replace(r'[^0-9]', '', regex=True)\n",
    "df_users_cleaned[\"Last_name\"] = df_users_cleaned[\"Last_name\"].str.capitalize()"
   ]
  },
  {
   "cell_type": "code",
   "execution_count": null,
   "id": "aa944dce",
   "metadata": {},
   "outputs": [],
   "source": [
    "#Set a unique pattern for a column\n",
    "def format_phone(phone):\n",
    "    if pd.notna(phone): \n",
    "        digits = ''.join(filter(str.isdigit, phone)) \n",
    "        if len(digits) == 10:\n",
    "            return f\"({digits[:3]}) {digits[3:6]}-{digits[6:]}\"\n",
    "    return phone\n",
    "\n",
    "df_users[\"Phone\"] = df_users[\"Phone\"].apply(format_phone)"
   ]
  },
  {
   "cell_type": "code",
   "execution_count": null,
   "id": "4ddbaf50",
   "metadata": {},
   "outputs": [],
   "source": [
    "#Delete rows with None values\n",
    "df_users_cleaned = df_users.dropna()\n"
   ]
  },
  {
   "cell_type": "code",
   "execution_count": null,
   "id": "3b7f388d",
   "metadata": {},
   "outputs": [],
   "source": [
    "#Conclusion\n",
    "#Data cleaning is a very important step before starting to work with a dataset in data science or machine learning,\n",
    "#it ensures that the data has no syntax errors, None or NaN values, duplicated rows, unnecessary columns, and many more things.\n",
    "#A dataset can be clean in many ways not just the ones seen in this article"
   ]
  }
 ],
 "metadata": {
  "kernelspec": {
   "display_name": "Python 3 (ipykernel)",
   "language": "python",
   "name": "python3"
  },
  "language_info": {
   "codemirror_mode": {
    "name": "ipython",
    "version": 3
   },
   "file_extension": ".py",
   "mimetype": "text/x-python",
   "name": "python",
   "nbconvert_exporter": "python",
   "pygments_lexer": "ipython3",
   "version": "3.9.13"
  }
 },
 "nbformat": 4,
 "nbformat_minor": 5
}
