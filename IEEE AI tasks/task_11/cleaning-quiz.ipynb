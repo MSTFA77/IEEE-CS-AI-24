{
 "cells": [
  {
   "cell_type": "markdown",
   "metadata": {},
   "source": [
    "# Cleaning Practice\n",
    "Let's first practice handling missing values and duplicate data using the `cancer_data_means.csv` file."
   ]
  },
  {
   "cell_type": "code",
   "execution_count": 1,
   "metadata": {},
   "outputs": [],
   "source": [
    "#import libraries and assign cancer_data_means.csv to a variable \n",
    "import pandas as pd\n",
    "cancer_data = pd.read_csv('cancer_data_means.csv')\n",
    "print(cancer_data.head())\n"
   ]
  },
  {
   "cell_type": "code",
   "execution_count": 2,
   "metadata": {},
   "outputs": [],
   "source": [
    "# check which columns have missing values\n",
    "missing_values = cancer_data.isnull().sum()\n",
    "columns_with_missing_values = missing_values[missing_values > 0]\n",
    "print(columns_with_missing_values)"
   ]
  },
  {
   "cell_type": "code",
   "execution_count": 3,
   "metadata": {},
   "outputs": [],
   "source": [
    "# confirm your correction\n",
    "columns_with_missing_values = missing_values[missing_values > 0]\n",
    "print(\"Columns with missing values:\")\n",
    "print(columns_with_missing_values)"
   ]
  },
  {
   "cell_type": "code",
   "execution_count": 4,
   "metadata": {},
   "outputs": [],
   "source": [
    "# how many duplicates are there ?\n",
    "duplicate_rows = cancer_data.duplicated().sum()\n",
    "print(f\"Number of duplicate rows: {duplicate_rows}\")\n"
   ]
  },
  {
   "cell_type": "code",
   "execution_count": 5,
   "metadata": {},
   "outputs": [],
   "source": [
    "# drop duplicates\n",
    "cancer_data_cleaned = cancer_data.drop_duplicates()\n",
    "duplicate_rows_after = cancer_data_cleaned.duplicated().sum()\n",
    "print(f\"Number of duplicate rows after cleaning: {duplicate_rows_after}\")\n"
   ]
  },
  {
   "cell_type": "code",
   "execution_count": 6,
   "metadata": {},
   "outputs": [],
   "source": [
    "# confirm correction by rechecking for duplicates in the data\n",
    "cancer_data_cleaned = cancer_data.drop_duplicates()\n",
    "duplicate_rows_after = cancer_data_cleaned.duplicated().sum()\n",
    "print(f\"Number of duplicate rows after cleaning: {duplicate_rows_after}\")"
   ]
  },
  {
   "cell_type": "markdown",
   "metadata": {},
   "source": [
    "## Renaming Columns\n",
    "Since we also previously changed our dataset to only include means of tumor features, the \"_mean\" at the end of each feature seems unnecessary. It just takes extra time to type in our analysis later. Rename the columns of the dataframe to remove \"_mean\"."
   ]
  },
  {
   "cell_type": "code",
   "execution_count": 7,
   "metadata": {},
   "outputs": [],
   "source": [
    "# rename the columns of the dataframe (remove _mean from the name of each column if found)\n",
    "cancer_data_cleaned.columns = [col.replace('_mean', '') for col in cancer_data_cleaned.columns]\n",
    "print(cancer_data_cleaned.columns)"
   ]
  },
  {
   "cell_type": "code",
   "execution_count": 8,
   "metadata": {
    "scrolled": false
   },
   "outputs": [],
   "source": [
    "# display first few rows of the dataframe to confirm changes\n",
    "print(cancer_data_cleaned.head())\n"
   ]
  },
  {
   "cell_type": "code",
   "execution_count": 9,
   "metadata": {},
   "outputs": [],
   "source": [
    "# save this for later as a csv file named \"cancer_data_edited.csv\" and set indexing to false (why ??)\n",
    "cancer_data_cleaned.to_csv('cancer_data_edited.csv', index=False)\n"
   ]
  },
  {
   "cell_type": "code",
   "execution_count": null,
   "metadata": {},
   "outputs": [],
   "source": []
  }
 ],
 "metadata": {
  "kernelspec": {
   "display_name": "Python 3 (ipykernel)",
   "language": "python",
   "name": "python3"
  },
  "language_info": {
   "codemirror_mode": {
    "name": "ipython",
    "version": 3
   },
   "file_extension": ".py",
   "mimetype": "text/x-python",
   "name": "python",
   "nbconvert_exporter": "python",
   "pygments_lexer": "ipython3",
   "version": "3.9.13"
  }
 },
 "nbformat": 4,
 "nbformat_minor": 2
}
